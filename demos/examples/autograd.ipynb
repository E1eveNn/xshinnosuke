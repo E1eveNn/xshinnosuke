{
 "cells": [
  {
   "cell_type": "code",
   "execution_count": 1,
   "metadata": {},
   "outputs": [],
   "source": [
    "import xshinnosuke as xs"
   ]
  },
  {
   "cell_type": "markdown",
   "metadata": {},
   "source": [
    "# Simple Add Multiply, etc"
   ]
  },
  {
   "cell_type": "code",
   "execution_count": 5,
   "metadata": {},
   "outputs": [],
   "source": [
    "xs.seed(0)\n",
    "a = xs.randn(3, 4, requires_grad=True)\n",
    "b = xs.ones(4, 2, requires_grad=True)\n",
    "c = xs.randn(1, 3, requires_grad=True)\n",
    "y = xs.tensor(10, requires_grad=True)"
   ]
  },
  {
   "cell_type": "code",
   "execution_count": 6,
   "metadata": {},
   "outputs": [
    {
     "name": "stdout",
     "output_type": "stream",
     "text": [
      "Variable(105.37674866848246, requires_grad=True, grad_fn=<PowBackward>)\n"
     ]
    }
   ],
   "source": [
    "# (3, 2) = (3, 4) * (4, 2)\n",
    "x1 = a * b\n",
    "# (2, 3) = (2, 3) * (1, 3)\n",
    "x2 = x1.t() * c\n",
    "# (2, )\n",
    "x3 = x2.mean(axis=1)\n",
    "x4 = x3.sum()\n",
    "loss = (x4 - y) ** 2\n",
    "print(loss)"
   ]
  },
  {
   "cell_type": "code",
   "execution_count": 7,
   "metadata": {},
   "outputs": [
    {
     "name": "stdout",
     "output_type": "stream",
     "text": [
      "-20.53063551558816\n",
      "[-20.53063552 -20.53063552]\n",
      "[[-6.84354517 -6.84354517 -6.84354517]\n",
      " [-6.84354517 -6.84354517 -6.84354517]]\n",
      "[[2.44424024 8.97854219]\n",
      " [0.73130437 2.44424024]\n",
      " [8.97854219 0.73130437]]\n"
     ]
    }
   ],
   "source": [
    "x4.retain_grad()\n",
    "x3.retain_grad()\n",
    "x2.retain_grad()\n",
    "x1.retain_grad()\n",
    "loss.backward()\n",
    "\n",
    "print(x4.grad)\n",
    "print(x3.grad)\n",
    "print(x2.grad)\n",
    "print(x1.grad)"
   ]
  },
  {
   "cell_type": "markdown",
   "metadata": {},
   "source": [
    "# Fully Connected Demo"
   ]
  },
  {
   "cell_type": "code",
   "execution_count": 8,
   "metadata": {},
   "outputs": [],
   "source": [
    "from xshinnosuke.layers import Dense\n",
    "\n",
    "xs.seed(0)\n",
    "inputs = xs.randn(1, 5, requires_grad=True)"
   ]
  },
  {
   "cell_type": "code",
   "execution_count": 9,
   "metadata": {},
   "outputs": [
    {
     "name": "stdout",
     "output_type": "stream",
     "text": [
      "loss1:  Variable(0.10376752480048798, requires_grad=True, grad_fn=<SumBackward>)\n",
      "inputs grad:  [[-0.15511417  0.03160216  0.13236604 -0.16691323  0.04000644]]\n"
     ]
    }
   ],
   "source": [
    "fc_layer = Dense(out_features=2)\n",
    "pred1 = fc_layer(inputs)\n",
    "loss1 = pred1.sum()\n",
    "print('loss1: ', loss1)\n",
    "loss1.backward()\n",
    "print('inputs grad: ', inputs.grad)"
   ]
  },
  {
   "cell_type": "code",
   "execution_count": 10,
   "metadata": {},
   "outputs": [
    {
     "name": "stdout",
     "output_type": "stream",
     "text": [
      "loss2:  Variable(0.10376752480048798, requires_grad=True, grad_fn=<SumBackward>)\n",
      "inputs grad:  [[-0.15511417  0.03160216  0.13236604 -0.16691323  0.04000644]]\n"
     ]
    }
   ],
   "source": [
    "# empty inputs' gradient\n",
    "inputs.zero_grad()\n",
    "# get the same parameters of Dense\n",
    "weight, bias = fc_layer.variables\n",
    "# manually apply fully connection operation\n",
    "pred2 = inputs.dot(weight) + bias\n",
    "loss2 = pred2.sum()\n",
    "print('loss2: ', loss2)\n",
    "loss2.backward()\n",
    "print('inputs grad: ', inputs.grad)"
   ]
  },
  {
   "cell_type": "markdown",
   "metadata": {},
   "source": [
    "# Convolutional Demo"
   ]
  },
  {
   "cell_type": "code",
   "execution_count": 2,
   "metadata": {},
   "outputs": [],
   "source": [
    "from xshinnosuke.layers import Conv2D\n",
    "\n",
    "# (batch, channels, height, width)\n",
    "inputs = xs.randn(1, 1, 5, 5, requires_grad=True)\n",
    "kernel_size = 3"
   ]
  },
  {
   "cell_type": "code",
   "execution_count": 3,
   "metadata": {},
   "outputs": [
    {
     "name": "stdout",
     "output_type": "stream",
     "text": [
      "loss1:  Variable(0.09235512061338991, requires_grad=True, grad_fn=<MeanBackward>)\n",
      "inputs grad:  [[[[ 0.00259424 -0.01035408  0.00319068  0.00059644  0.01354475]\n",
      "   [ 0.00427474  0.01671126  0.02760327  0.02332854  0.01089201]\n",
      "   [-0.00902506 -0.00531487  0.01823331  0.02725837  0.02354817]\n",
      "   [-0.01161929  0.00503921  0.01504263  0.02666193  0.01000342]\n",
      "   [-0.0132998  -0.02202613 -0.00936997  0.00392983  0.01265616]]]]\n"
     ]
    }
   ],
   "source": [
    "conv_layer = Conv2D(out_channels=1, kernel_size=kernel_size, use_bias=False)\n",
    "pred1 = conv_layer(inputs)\n",
    "loss1 = pred1.mean()\n",
    "print('loss1: ', loss1)\n",
    "loss1.backward()\n",
    "print('inputs grad: ', inputs.grad)"
   ]
  },
  {
   "cell_type": "code",
   "execution_count": 4,
   "metadata": {},
   "outputs": [
    {
     "name": "stdout",
     "output_type": "stream",
     "text": [
      "loss2:  Variable(0.09235512061338988, requires_grad=True, grad_fn=<MeanBackward>)\n",
      "inputs grad:  [[[[ 0.00259424 -0.01035408  0.00319068  0.00059644  0.01354475]\n",
      "   [ 0.00427474  0.01671126  0.02760327  0.02332854  0.01089201]\n",
      "   [-0.00902506 -0.00531487  0.01823331  0.02725837  0.02354817]\n",
      "   [-0.01161929  0.00503921  0.01504263  0.02666193  0.01000342]\n",
      "   [-0.0132998  -0.02202613 -0.00936997  0.00392983  0.01265616]]]]\n"
     ]
    }
   ],
   "source": [
    "inputs.zero_grad()\n",
    "weight, _ = conv_layer.variables\n",
    "pred2 = xs.zeros(3, 3, requires_grad=True)\n",
    "for i in range(3):\n",
    "    for j in range(3):\n",
    "        pred2[i, j] = (inputs[:, :, i: i + kernel_size, j: j + kernel_size] * weight).sum()\n",
    "loss2 = pred2.mean()\n",
    "print('loss2: ', loss2)\n",
    "loss2.backward()\n",
    "print('inputs grad: ', inputs.grad)"
   ]
  },
  {
   "cell_type": "markdown",
   "metadata": {},
   "source": [
    "# Pooling Demo"
   ]
  },
  {
   "cell_type": "code",
   "execution_count": 5,
   "metadata": {},
   "outputs": [],
   "source": [
    "from xshinnosuke.layers import MaxPooling2D\n",
    "\n",
    "# (batch, channels, height, width)\n",
    "inputs = xs.randn(1, 1, 4, 4, requires_grad=True)\n",
    "kernel_size = 2\n",
    "stride = 2"
   ]
  },
  {
   "cell_type": "code",
   "execution_count": 6,
   "metadata": {},
   "outputs": [
    {
     "name": "stdout",
     "output_type": "stream",
     "text": [
      "loss1:  Variable(1.0085125512257545, requires_grad=True, grad_fn=<MeanBackward>)\n",
      "inputs grad:  [[[[0.   0.   0.   0.25]\n",
      "   [0.25 0.   0.   0.  ]\n",
      "   [0.   0.   0.25 0.  ]\n",
      "   [0.   0.25 0.   0.  ]]]]\n"
     ]
    }
   ],
   "source": [
    "pool_layer = MaxPooling2D(kernel_size=kernel_size, stride=stride)\n",
    "pred1 = pool_layer(inputs)\n",
    "loss1 = pred1.mean()\n",
    "print('loss1: ', loss1)\n",
    "loss1.backward()\n",
    "print('inputs grad: ', inputs.grad)"
   ]
  },
  {
   "cell_type": "code",
   "execution_count": 7,
   "metadata": {},
   "outputs": [
    {
     "name": "stdout",
     "output_type": "stream",
     "text": [
      "loss2:  Variable(1.0085125512257545, requires_grad=True, grad_fn=<MeanBackward>)\n",
      "inputs grad:  [[[[0.   0.   0.   0.25]\n",
      "   [0.25 0.   0.   0.  ]\n",
      "   [0.   0.   0.25 0.  ]\n",
      "   [0.   0.25 0.   0.  ]]]]\n"
     ]
    }
   ],
   "source": [
    "inputs.zero_grad()\n",
    "pred2 = xs.zeros(2, 2, requires_grad=True)\n",
    "for i in range(2):\n",
    "    for j in range(2):\n",
    "        h_start = i * stride\n",
    "        h_end = h_start + kernel_size\n",
    "        w_start = j * stride\n",
    "        w_end = w_start + kernel_size\n",
    "        pred2[i, j] = inputs[:, :, h_start: h_end, w_start: w_end].max()\n",
    "loss2 = pred2.mean()\n",
    "print('loss2: ', loss2)\n",
    "loss2.backward()\n",
    "print('inputs grad: ', inputs.grad)"
   ]
  },
  {
   "cell_type": "code",
   "execution_count": null,
   "metadata": {},
   "outputs": [],
   "source": []
  }
 ],
 "metadata": {
  "kernelspec": {
   "display_name": "Python 3",
   "language": "python",
   "name": "python3"
  },
  "language_info": {
   "codemirror_mode": {
    "name": "ipython",
    "version": 3
   },
   "file_extension": ".py",
   "mimetype": "text/x-python",
   "name": "python",
   "nbconvert_exporter": "python",
   "pygments_lexer": "ipython3",
   "version": "3.7.7"
  }
 },
 "nbformat": 4,
 "nbformat_minor": 4
}
